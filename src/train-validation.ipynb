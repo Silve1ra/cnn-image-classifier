{
 "cells": [
  {
   "cell_type": "markdown",
   "metadata": {},
   "source": [
    "# DCNN Keras Image Classifier"
   ]
  },
  {
   "cell_type": "markdown",
   "metadata": {},
   "source": [
    "- Author: Felipe Silveira (felipesilveira@ieee.org)\n",
    "- A simple and generic image classifier built with Keras using cuda libraries.\n",
    "- [Base code](https://github.com/gabrielkirsten/cnn_keras)"
   ]
  },
  {
   "cell_type": "code",
   "execution_count": null,
   "metadata": {},
   "outputs": [],
   "source": [
    "!pip install matplotlib\n",
    "!pip install scikit-learn\n",
    "!pip install Pillow\n",
    "!pip install pandas"
   ]
  },
  {
   "cell_type": "code",
   "execution_count": 1,
   "metadata": {
    "scrolled": true
   },
   "outputs": [
    {
     "name": "stderr",
     "output_type": "stream",
     "text": [
      "Using TensorFlow backend.\n"
     ]
    }
   ],
   "source": [
    "import time\n",
    "import os\n",
    "import argparse\n",
    "import itertools\n",
    "import matplotlib.pyplot as plt\n",
    "import numpy as np\n",
    "import pandas as pd\n",
    "import json\n",
    "from keras import applications\n",
    "from keras.preprocessing.image import ImageDataGenerator\n",
    "from keras import optimizers\n",
    "from keras.models import Model\n",
    "from keras.layers import Dropout, Flatten, Dense\n",
    "from keras.callbacks import ModelCheckpoint\n",
    "from keras.callbacks import EarlyStopping\n",
    "from sklearn.metrics import confusion_matrix\n",
    "from sklearn import metrics"
   ]
  },
  {
   "cell_type": "code",
   "execution_count": 2,
   "metadata": {},
   "outputs": [],
   "source": [
    "%matplotlib inline"
   ]
  },
  {
   "cell_type": "code",
   "execution_count": 3,
   "metadata": {},
   "outputs": [],
   "source": [
    "os.environ['TF_CPP_MIN_LOG_LEVEL'] = '2'  # Suppress warnings\n",
    "START_TIME = time.time()"
   ]
  },
  {
   "cell_type": "code",
   "execution_count": 4,
   "metadata": {},
   "outputs": [],
   "source": [
    "DATA_DIR = \"../data/1440/5X/original\"\n",
    "TRAIN_DATA_DIR = \"../data/1440/5X/train\"\n",
    "VALIDATION_DATA_DIR = \"../data/1440/5X/validation\""
   ]
  },
  {
   "cell_type": "code",
   "execution_count": 5,
   "metadata": {},
   "outputs": [],
   "source": [
    "CLASS_NAMES = os.listdir(DATA_DIR)\n",
    "CLASS_NAMES = [x.title() for x in CLASS_NAMES]\n",
    "CLASS_NAMES = [x.replace('_',' ') for x in CLASS_NAMES]"
   ]
  },
  {
   "cell_type": "code",
   "execution_count": 6,
   "metadata": {
    "scrolled": true
   },
   "outputs": [
    {
     "data": {
      "text/plain": [
       "['Euphorbia Pulcherrima',\n",
       " 'Leucaena Leucocephala',\n",
       " 'Hidrocleys Nymphoides',\n",
       " 'Azadirachta Indica',\n",
       " 'Banisteria Argyrophylla',\n",
       " 'Camptostema Ellipticum',\n",
       " 'Matayba Guianensis',\n",
       " 'Inga Vera',\n",
       " 'Casearia Aculeata',\n",
       " 'Bauhinia',\n",
       " 'Simarouba Versicolor',\n",
       " 'Bixa Orellana',\n",
       " 'Mitostemma Brevifilis',\n",
       " 'Moringa Oleifera',\n",
       " 'Handroanthus Heptaphyllus',\n",
       " 'Plinia Cauliflora',\n",
       " 'Cocos Nucifera']"
      ]
     },
     "execution_count": 6,
     "metadata": {},
     "output_type": "execute_result"
    }
   ],
   "source": [
    "CLASS_NAMES"
   ]
  },
  {
   "cell_type": "code",
   "execution_count": 7,
   "metadata": {},
   "outputs": [],
   "source": [
    "IMG_WIDTH, IMG_HEIGHT = 256, 256\n",
    "BATCH_SIZE = 16\n",
    "EPOCHS = 2\n",
    "LEARNING_RATE = 1e-3"
   ]
  },
  {
   "cell_type": "code",
   "execution_count": 8,
   "metadata": {},
   "outputs": [],
   "source": [
    "results = {\n",
    "    \"file_name\":\"\",\n",
    "    \"hyperparameters\":{\n",
    "        \"architecture\":\"\",\n",
    "        \"learning_rate\":\"\",\n",
    "        \"fine_tuning_rate\":\"\",\n",
    "        \"batch_size\":\"\",\n",
    "        \"epochs\":\"\"\n",
    "    },\n",
    "    \"results\":{\n",
    "        \"accuracy\":\"\",\n",
    "        \"loss\":\"\",\n",
    "        \"precision\":\"\",\n",
    "        \"recall\":\"\",\n",
    "        \"f1-score\":\"\",\n",
    "        \"report\":\"\"\n",
    "    },\n",
    "    \"dirs\":{\n",
    "        \"saved_report_data_dir\":\"\",\n",
    "        \"train_data_dir\":\"\",\n",
    "        \"validation_data_dir\":\"\",\n",
    "        \"saved_model_data_dir\":\"\",\n",
    "        \"saved_weights_data_dir\":\"\"\n",
    "    },\n",
    "    \"info\":{\n",
    "        \"number_classes\":\"\",\n",
    "        \"classes_names\":\"\",\n",
    "        \"number_training_images\":\"\",\n",
    "        \"number_validation_images\":\"\",\n",
    "        \"train_time\":\"\",\n",
    "        \"evaluation_time\":\"\"\n",
    "    }\n",
    "}"
   ]
  },
  {
   "cell_type": "code",
   "execution_count": 9,
   "metadata": {},
   "outputs": [],
   "source": [
    "def plot_confusion_matrix(confusion_matrix_to_print, classes,\n",
    "                          title='Confusion matrix',\n",
    "                          cmap=plt.cm.Blues):\n",
    "    \"\"\"\n",
    "        This function prints applicationsand plots the confusion matrix.\n",
    "        Normalization can be applied by setting `normalize=True`.\n",
    "    \"\"\"\n",
    "\n",
    "    plt.imshow(confusion_matrix_to_print, interpolation='nearest', cmap=cmap)\n",
    "    plt.title(title)\n",
    "    plt.colorbar()\n",
    "    tick_marks = np.arange(len(classes))\n",
    "    plt.xticks(tick_marks, classes, rotation=90)\n",
    "    plt.yticks(tick_marks, classes)\n",
    "\n",
    "    thresh = confusion_matrix_to_print.max() / 2.\n",
    "    for i, j in itertools.product(range(confusion_matrix_to_print.shape[0]),\n",
    "                                  range(confusion_matrix_to_print.shape[1])):\n",
    "        plt.text(j, i, format(confusion_matrix_to_print[i, j], 'd'),\n",
    "                 horizontalalignment=\"center\",\n",
    "                 color=\"white\" if confusion_matrix_to_print[i, j] > thresh else \"black\")\n",
    "\n",
    "    plt.tight_layout()\n",
    "    plt.ylabel('True label')\n",
    "    plt.xlabel('Predicted label')"
   ]
  },
  {
   "cell_type": "code",
   "execution_count": 10,
   "metadata": {},
   "outputs": [],
   "source": [
    "def make_confusion_matrix_and_plot(validation_generator, file_name, model_final):\n",
    "    \"\"\"Predict and plot confusion matrix\"\"\"\n",
    "\n",
    "    validation_features = model_final.predict_generator(validation_generator,\n",
    "                                                        validation_generator.samples,\n",
    "                                                        verbose=1)\n",
    "\n",
    "    plt.figure(figsize=(10,10))\n",
    "\n",
    "    plot_confusion_matrix(confusion_matrix(np.argmax(validation_features, axis=1),\n",
    "                                           validation_generator.classes),\n",
    "                          classes=CLASS_NAMES,\n",
    "                          title='Confusion Matrix Graph')\n",
    "\n",
    "    plt.savefig('../output_images/' + file_name + '_matrix.png')\n",
    "\n",
    "    print(\"Total time after generate confusion matrix: %s\" %\n",
    "          (time.time() - START_TIME))"
   ]
  },
  {
   "cell_type": "code",
   "execution_count": 11,
   "metadata": {},
   "outputs": [],
   "source": [
    "def plot_training_history(history, file_name):\n",
    "    '''\n",
    "    Generate loss & accuracy plots for training & validation\n",
    "    '''\n",
    "    \n",
    "    plt.figure(figsize=(6,4))\n",
    "    plt.ylabel('Accuracy & Loss')\n",
    "    plt.xlabel('Epoch')\n",
    "    plt.title('Accuracy & Loss Learning Curve Graph')\n",
    "    \n",
    "    \n",
    "    # Plot training & validation accuracy values\n",
    "    plt.plot(history.history['accuracy'], label=\"Training accuracy\")\n",
    "    plt.plot(history.history['loss'], label=\"Training loss\")\n",
    "    plt.plot(history.history['val_accuracy'], label=\"Validation accuracy\")    \n",
    "    plt.plot(history.history['val_loss'], label=\"Validation loss\")\n",
    "    \n",
    "    plt.legend(['Acc', 'Loss', 'Val Acc', 'Val Loss'], loc='upper left')\n",
    "    \n",
    "    plt.savefig('../output_images/' + file_name + '_history.png')"
   ]
  },
  {
   "cell_type": "code",
   "execution_count": 12,
   "metadata": {},
   "outputs": [],
   "source": [
    "def classification_report_csv(report, file_name):\n",
    "    \"\"\"\n",
    "    This function turns the sklearn report into an array where each class is a position.\n",
    "    \"\"\"\n",
    "    report_data = []\n",
    "    lines = report.split('\\n')\n",
    "    for line in lines[2:-5]:\n",
    "        line=\" \".join(line.split())\n",
    "        row = {}\n",
    "        row_data = line.split(' ')\n",
    "        #row['class'] = row_data[0]\n",
    "        row['precision'] = row_data[1]\n",
    "        row['recall'] = row_data[2]\n",
    "        row['f1_score'] = row_data[3]\n",
    "        #row['support'] = row_data[4]\n",
    "        report_data.append(row)\n",
    "        \n",
    "    dataframe = pd.DataFrame.from_dict(report_data)\n",
    "    print(dataframe)\n",
    "    \n",
    "    path = '../results/' + file_name + '_classification_report.csv'\n",
    "    dataframe.to_csv(path, index = False)\n",
    "    print(\"Report dataframe saved as \" + path)\n",
    "    \n",
    "    return dataframe"
   ]
  },
  {
   "cell_type": "code",
   "execution_count": 13,
   "metadata": {},
   "outputs": [],
   "source": [
    "def results_report_txt(results):\n",
    "    \"\"\"\n",
    "    This function saves the results object structure into a txt file.\n",
    "    \"\"\"\n",
    "    path = \"../results/\" + str(results[\"file_name\"]) + \"_results.txt\"\n",
    "    results_file = open(path, \"wt\")\n",
    "    results_file.write(str(results))\n",
    "    results_file.close()\n",
    "    print(\"Full results report saved as \" + path)"
   ]
  },
  {
   "cell_type": "code",
   "execution_count": 14,
   "metadata": {},
   "outputs": [],
   "source": [
    "def main(architecture, fineTuning):\n",
    "    \"\"\"\n",
    "        architecture: Xception, VGG16, VGG19, ResNet50, InceptionV3, MobileNet\n",
    "        fine tuning rate: i.e. 0 25 50 75 -1--without imagenet weights--\n",
    "    \"\"\"\n",
    "\n",
    "\n",
    "    if fineTuning != -1:\n",
    "        if architecture == \"Xception\":\n",
    "            model = applications.Xception(\n",
    "                weights=\"imagenet\", include_top=False, input_shape=(IMG_WIDTH, IMG_HEIGHT, 3))\n",
    "        elif architecture == \"VGG16\":\n",
    "            model = applications.VGG16(\n",
    "                weights=\"imagenet\", include_top=False, input_shape=(IMG_WIDTH, IMG_HEIGHT, 3))\n",
    "        elif architecture == \"VGG19\":\n",
    "            model = applications.VGG19(\n",
    "                weights=\"imagenet\", include_top=False, input_shape=(IMG_WIDTH, IMG_HEIGHT, 3))\n",
    "        elif architecture == \"ResNet50\":\n",
    "            model = applications.ResNet50(\n",
    "                weights=\"imagenet\", include_top=False, input_shape=(IMG_WIDTH, IMG_HEIGHT, 3))\n",
    "        elif architecture == \"InceptionV3\":\n",
    "            model = applications.InceptionV3(\n",
    "                weights=\"imagenet\", include_top=False, input_shape=(IMG_WIDTH, IMG_HEIGHT, 3))\n",
    "        elif architecture == \"MobileNet\":\n",
    "            model = applications.MobileNet(\n",
    "                weights=\"imagenet\", include_top=False, input_shape=(IMG_WIDTH, IMG_HEIGHT, 3))\n",
    "\n",
    "    # calculate how much layers won't be retrained according on fineTuningRate parameter\n",
    "        n_layers = len(model.layers)\n",
    "        last_layers = n_layers - int(n_layers * (fineTuning / 100.))\n",
    "        for layer in model.layers[:last_layers]:\n",
    "            layer.trainable = False\n",
    "\n",
    "    else:  # without transfer learning\n",
    "        if architecture == \"Xception\":\n",
    "            model = applications.Xception(\n",
    "                weights=None, include_top=False, input_shape=(IMG_WIDTH, IMG_HEIGHT, 3))\n",
    "        elif architecture == \"VGG16\":\n",
    "            model = applications.VGG16(\n",
    "                weights=None, include_top=False, input_shape=(IMG_WIDTH, IMG_HEIGHT, 3))\n",
    "        elif architecture == \"VGG19\":\n",
    "            model = applications.VGG19(\n",
    "                weights=None, include_top=False, input_shape=(IMG_WIDTH, IMG_HEIGHT, 3))\n",
    "        elif architecture == \"ResNet50\":\n",
    "            model = applications.ResNet50(\n",
    "                weights=None, include_top=False, input_shape=(IMG_WIDTH, IMG_HEIGHT, 3))\n",
    "        elif architecture == \"InceptionV3\":\n",
    "            model = applications.InceptionV3(\n",
    "                weights=None, include_top=False, input_shape=(IMG_WIDTH, IMG_HEIGHT, 3))\n",
    "        elif architecture == \"MobileNet\":\n",
    "            model = applications.MobileNet(\n",
    "                weights=None, include_top=False, input_shape=(IMG_WIDTH, IMG_HEIGHT, 3))\n",
    "        for layer in model.layers:\n",
    "            layer.trainable = True\n",
    "\n",
    "    # Initiate the train and test generators with data Augumentation\n",
    "    train_datagen = ImageDataGenerator(\n",
    "        rescale=1. / 255,\n",
    "        horizontal_flip=True,\n",
    "        fill_mode=\"nearest\",\n",
    "        zoom_range=0.3,\n",
    "        width_shift_range=0.3,\n",
    "        height_shift_range=0.3,\n",
    "        rotation_range=30)\n",
    "\n",
    "    train_generator = train_datagen.flow_from_directory(\n",
    "        TRAIN_DATA_DIR,\n",
    "        target_size=(IMG_HEIGHT, IMG_WIDTH),\n",
    "        batch_size=BATCH_SIZE,\n",
    "        shuffle=True,\n",
    "        class_mode=\"categorical\")\n",
    "\n",
    "    test_datagen = ImageDataGenerator(\n",
    "        rescale=1. / 255,\n",
    "        horizontal_flip=True,\n",
    "        fill_mode=\"nearest\",\n",
    "        zoom_range=0.3,\n",
    "        width_shift_range=0.3,\n",
    "        height_shift_range=0.3,\n",
    "        rotation_range=30)\n",
    "\n",
    "    validation_generator = test_datagen.flow_from_directory(\n",
    "        VALIDATION_DATA_DIR,\n",
    "        target_size=(IMG_HEIGHT, IMG_WIDTH),\n",
    "        batch_size=BATCH_SIZE,\n",
    "        shuffle=True,\n",
    "        class_mode=\"categorical\")\n",
    "\n",
    "    # Adding custom Layers\n",
    "    new_custom_layers = model.output\n",
    "    new_custom_layers = Flatten()(new_custom_layers)\n",
    "    new_custom_layers = Dense(1024, activation=\"relu\")(new_custom_layers)\n",
    "    new_custom_layers = Dropout(0.5)(new_custom_layers)\n",
    "    new_custom_layers = Dense(1024, activation=\"relu\")(new_custom_layers)\n",
    "    try:\n",
    "        num_classes = train_generator.num_class\n",
    "    except:\n",
    "        num_classes = train_generator.num_classes\n",
    "    predictions = Dense(num_classes, activation=\"softmax\")(new_custom_layers)\n",
    "\n",
    "    # creating the final model\n",
    "    model_final = Model(inputs=model.input, outputs=predictions)\n",
    "\n",
    "    # compile the model\n",
    "    model_final.compile(loss=\"categorical_crossentropy\",\n",
    "                        optimizer=optimizers.SGD(lr=LEARNING_RATE, momentum=0.9),\n",
    "                        metrics=[\"accuracy\"])\n",
    "\n",
    "    # select .h5 filename\n",
    "    if fineTuning == 0:\n",
    "        file_name = architecture + \\\n",
    "            '_tf_' + str(fineTuning) + \"_lr_\" + str(LEARNING_RATE) + \\\n",
    "            \"_batch_\" + str(BATCH_SIZE) + \"_epochs_\" + str(EPOCHS)\n",
    "            \n",
    "    elif fineTuning == -1:\n",
    "        file_name = architecture + \\\n",
    "            '_wtf_' + str(fineTuning) + \"_lr_\" + str(LEARNING_RATE) + \\\n",
    "            \"_batch_\" + str(BATCH_SIZE) + \"_epochs_\" + str(EPOCHS)\n",
    "    else:\n",
    "        file_name = architecture + \\\n",
    "            '_ft_' + str(fineTuning) + \"_lr_\" + str(LEARNING_RATE) + \\\n",
    "            \"_batch_\" + str(BATCH_SIZE) + \"_epochs_\" + str(EPOCHS)\n",
    "\n",
    "    # Save the model according to the conditions\n",
    "    checkpoint = ModelCheckpoint(\"../models_checkpoints/\" + file_name + \"_model.h5\", monitor='val_accuracy',\n",
    "                                 verbose=1, save_best_only=True, save_weights_only=False,\n",
    "                                 mode='auto', period=1)\n",
    "    \n",
    "    early_stopping = EarlyStopping(verbose=True, patience=15, monitor='val_accuracy')\n",
    "\n",
    "    # Train the model\n",
    "    history = model_final.fit_generator(\n",
    "        train_generator,\n",
    "        steps_per_epoch=train_generator.samples // BATCH_SIZE,\n",
    "        epochs=EPOCHS,\n",
    "        callbacks=[early_stopping,checkpoint],\n",
    "        validation_data=validation_generator,\n",
    "        validation_steps=validation_generator.samples // BATCH_SIZE)\n",
    "\n",
    "    train_time = (time.time() - START_TIME)\n",
    "    print(\"Total time to train: %s\" % train_time)\n",
    "    \n",
    "    # Saving the model\n",
    "    #model.save(\"../models_checkpoints/\" + file_name + \"_model.h5\")  # creates a HDF5 file 'my_model.h5'\n",
    "    \n",
    "    # Saving the weights\n",
    "    model_final.save_weights(\"../models_checkpoints/\" + file_name + \"_weights.h5\")\n",
    "    \n",
    "    plot_training_history(history, file_name)\n",
    "\n",
    "    validation_generator = ImageDataGenerator(rescale=1. / 255).flow_from_directory(\n",
    "        VALIDATION_DATA_DIR,\n",
    "        batch_size=1,\n",
    "        shuffle=False,\n",
    "        target_size=(IMG_HEIGHT, IMG_WIDTH),\n",
    "        class_mode=\"categorical\")\n",
    "\n",
    "    make_confusion_matrix_and_plot(\n",
    "        validation_generator, file_name, model_final)\n",
    "    \n",
    "    # Evaluate the validation results\n",
    "    validation_evaluate = model_final.evaluate_generator(validation_generator, validation_generator.samples)\n",
    "    evaluation_time = (time.time() - START_TIME)\n",
    "    print(\"Total time to evaluate the model: %s\" % evaluation_time)\n",
    "    \n",
    "    # Validation predict\n",
    "    validation_predict = model_final.predict_generator(validation_generator, steps=None)\n",
    "    \n",
    "    # Printing sklearn metrics report for test\n",
    "    y_true = validation_generator.classes\n",
    "    y_pred = np.argmax(validation_predict, axis=1)\n",
    "    report = metrics.classification_report(y_true, y_pred, digits=6)\n",
    "    csv_report = classification_report_csv(report, file_name)\n",
    "    \n",
    "    # Saving the results\n",
    "    results[\"file_name\"] = file_name\n",
    "    results[\"hyperparameters\"][\"architecture\"] = architecture\n",
    "    results[\"hyperparameters\"][\"learning_rate\"] = LEARNING_RATE\n",
    "    results[\"hyperparameters\"][\"fine_tuning_rate\"] = fineTuning\n",
    "    results[\"hyperparameters\"][\"batch_size\"] = BATCH_SIZE\n",
    "    results[\"hyperparameters\"][\"epochs\"] = EPOCHS\n",
    "    results[\"results\"][\"accuracy\"] = validation_evaluate[1]\n",
    "    results[\"results\"][\"loss\"] = validation_evaluate[0]\n",
    "    results[\"results\"][\"precision\"] = metrics.precision_score(y_true, y_pred, average='macro')\n",
    "    results[\"results\"][\"recall\"] = metrics.recall_score(y_true, y_pred, average='macro')\n",
    "    results[\"results\"][\"f1-score\"] = metrics.f1_score(y_true, y_pred, average='macro')\n",
    "    results[\"results\"][\"report\"] = csv_report\n",
    "    results[\"dirs\"][\"saved_report_data_dir\"] = '../results/' + file_name + '_classification_report.csv'\n",
    "    results[\"dirs\"][\"train_data_dir\"] = TRAIN_DATA_DIR\n",
    "    results[\"dirs\"][\"validation_data_dir\"] = VALIDATION_DATA_DIR\n",
    "    results[\"dirs\"][\"saved_model_data_dir\"] = \"/models_checkpoints/\" + file_name + \"_model.h5\"\n",
    "    results[\"dirs\"][\"saved_weights_data_dir\"] = \"/models_checkpoints/\" + file_name + \"_weights.h5\"\n",
    "    results[\"info\"][\"number_classes\"] = len(CLASS_NAMES)\n",
    "    results[\"info\"][\"classes_names\"] = CLASS_NAMES\n",
    "    results[\"info\"][\"number_training_images\"] = train_generator.samples\n",
    "    results[\"info\"][\"number_validation_images\"] = validation_generator.samples\n",
    "    results[\"info\"][\"train_time\"] = train_time\n",
    "    results[\"info\"][\"evaluation_time\"] = train_time\n",
    "\n",
    "    return results"
   ]
  },
  {
   "cell_type": "markdown",
   "metadata": {},
   "source": [
    "### Xception"
   ]
  },
  {
   "cell_type": "code",
   "execution_count": 15,
   "metadata": {
    "scrolled": false
   },
   "outputs": [
    {
     "name": "stdout",
     "output_type": "stream",
     "text": [
      "Found 204 images belonging to 17 classes.\n",
      "Found 68 images belonging to 17 classes.\n",
      "Epoch 1/2\n",
      "12/12 [==============================] - 9s 725ms/step - loss: 2.9256 - accuracy: 0.0677 - val_loss: 2.8654 - val_accuracy: 0.1562\n",
      "\n",
      "Epoch 00001: val_accuracy improved from -inf to 0.15625, saving model to ../models_checkpoints/Xception_tf_0_lr_0.001_batch_16_epochs_2_model.h5\n",
      "Epoch 2/2\n",
      "12/12 [==============================] - 6s 478ms/step - loss: 2.8396 - accuracy: 0.1330 - val_loss: 2.9587 - val_accuracy: 0.0385\n",
      "\n",
      "Epoch 00002: val_accuracy did not improve from 0.15625\n",
      "Total time to train: 20.37989091873169\n",
      "Found 68 images belonging to 17 classes.\n",
      "68/68 [==============================] - 4s 53ms/step\n",
      "Total time after generate confusion matrix: 26.10812282562256\n",
      "Total time to evaluate the model: 28.609580755233765\n",
      "   precision    recall  f1_score\n",
      "0   0.000000  0.000000  0.000000\n",
      "1   0.000000  0.000000  0.000000\n",
      "2   0.000000  0.000000  0.000000\n",
      "3   0.000000  0.000000  0.000000\n",
      "4   0.000000  0.000000  0.000000\n",
      "5   0.000000  0.000000  0.000000\n",
      "6   0.000000  0.000000  0.000000\n",
      "7   0.063492  1.000000  0.119403\n",
      "8   0.000000  0.000000  0.000000\n",
      "9   0.000000  0.000000  0.000000\n",
      "10  0.000000  0.000000  0.000000\n",
      "11  0.000000  0.000000  0.000000\n",
      "12  0.000000  0.000000  0.000000\n",
      "13  0.000000  0.000000  0.000000\n",
      "14  0.000000  0.000000  0.000000\n",
      "15  0.000000  0.000000  0.000000\n",
      "16  0.000000  0.000000  0.000000\n",
      "Report dataframe saved as ../results/Xception_tf_0_lr_0.001_batch_16_epochs_2_classification_report.csv\n",
      "Full results report saved as ../results/Xception_tf_0_lr_0.001_batch_16_epochs_2_results.txt\n"
     ]
    },
    {
     "name": "stderr",
     "output_type": "stream",
     "text": [
      "/home/silveira/anaconda3/envs/pollen-zoom/lib/python3.7/site-packages/sklearn/metrics/_classification.py:1272: UndefinedMetricWarning: Precision and F-score are ill-defined and being set to 0.0 in labels with no predicted samples. Use `zero_division` parameter to control this behavior.\n",
      "  _warn_prf(average, modifier, msg_start, len(result))\n",
      "/home/silveira/anaconda3/envs/pollen-zoom/lib/python3.7/site-packages/sklearn/metrics/_classification.py:1272: UndefinedMetricWarning: Precision is ill-defined and being set to 0.0 in labels with no predicted samples. Use `zero_division` parameter to control this behavior.\n",
      "  _warn_prf(average, modifier, msg_start, len(result))\n"
     ]
    },
    {
     "data": {
      "image/png": "[encoded data removed]",
      "text/plain": [
       "<Figure size 432x288 with 1 Axes>"
      ]
     },
     "metadata": {
      "needs_background": "light"
     },
     "output_type": "display_data"
    },
    {
     "data": {
      "image/png": "[encoded data removed]",
      "text/plain": [
       "<Figure size 720x720 with 2 Axes>"
      ]
     },
     "metadata": {
      "needs_background": "light"
     },
     "output_type": "display_data"
    }
   ],
   "source": [
    "results = main('Xception', 0)\n",
    "results_report_txt(results)"
   ]
  }
 ],
 "metadata": {
  "kernelspec": {
   "display_name": "Python 3",
   "language": "python",
   "name": "python3"
  },
  "language_info": {
   "codemirror_mode": {
    "name": "ipython",
    "version": 3
   },
   "file_extension": ".py",
   "mimetype": "text/x-python",
   "name": "python",
   "nbconvert_exporter": "python",
   "pygments_lexer": "ipython3",
   "version": "3.7.6"
  }
 },
 "nbformat": 4,
 "nbformat_minor": 4
}
