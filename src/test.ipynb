{
 "cells": [
  {
   "cell_type": "markdown",
   "metadata": {},
   "source": [
    "# DCNN Keras Image Classifier"
   ]
  },
  {
   "cell_type": "markdown",
   "metadata": {},
   "source": [
    "- Author: Felipe Silveira (felipesilveira@ieee.org)\n",
    "- A simple and generic image classifier (test) built with Keras using cuda libraries."
   ]
  },
  {
   "cell_type": "markdown",
   "metadata": {},
   "source": [
    "### Imports"
   ]
  },
  {
   "cell_type": "code",
   "execution_count": 1,
   "metadata": {
    "scrolled": true
   },
   "outputs": [
    {
     "name": "stderr",
     "output_type": "stream",
     "text": [
      "Using TensorFlow backend.\n"
     ]
    }
   ],
   "source": [
    "import os\n",
    "import time\n",
    "import itertools\n",
    "import numpy as np\n",
    "import pandas as pd\n",
    "import matplotlib.pyplot as plt\n",
    "from sklearn import metrics\n",
    "from sklearn.metrics import confusion_matrix\n",
    "from keras.models import load_model\n",
    "from keras.preprocessing.image import ImageDataGenerator"
   ]
  },
  {
   "cell_type": "code",
   "execution_count": 2,
   "metadata": {},
   "outputs": [],
   "source": [
    "%matplotlib inline"
   ]
  },
  {
   "cell_type": "markdown",
   "metadata": {},
   "source": [
    "### Adjusting hyperparameters"
   ]
  },
  {
   "cell_type": "code",
   "execution_count": 3,
   "metadata": {},
   "outputs": [],
   "source": [
    "os.environ['TF_CPP_MIN_LOG_LEVEL'] = '2'  # Suppress warnings\n",
    "START_TIME = time.time()"
   ]
  },
  {
   "cell_type": "code",
   "execution_count": 4,
   "metadata": {},
   "outputs": [],
   "source": [
    "data_dir = \"../data/1440/5X/original\"\n",
    "test_data_dir = \"../data/1440/5X/test\""
   ]
  },
  {
   "cell_type": "code",
   "execution_count": 5,
   "metadata": {},
   "outputs": [],
   "source": [
    "results_dir = '../models_checkpoints/'\n",
    "results_files = os.listdir(results_dir)"
   ]
  },
  {
   "cell_type": "code",
   "execution_count": 6,
   "metadata": {},
   "outputs": [
    {
     "data": {
      "text/plain": [
       "['.gitignore',\n",
       " 'Xception_tf_0_lr_0.001_batch_16_epochs_2_model.h5',\n",
       " 'Xception_transfer_learning_weights.h5',\n",
       " 'Xception_transfer_learning_model.h5',\n",
       " 'Xception_tf_0_lr_0.001_batch_16_epochs_2_weights.h5']"
      ]
     },
     "execution_count": 6,
     "metadata": {},
     "output_type": "execute_result"
    }
   ],
   "source": [
    "results_files"
   ]
  },
  {
   "cell_type": "code",
   "execution_count": 7,
   "metadata": {},
   "outputs": [],
   "source": [
    "file_name = 'Xception_tf_0_lr_0.001_batch_16_epochs_2'\n",
    "file_path = results_dir + file_name"
   ]
  },
  {
   "cell_type": "code",
   "execution_count": 8,
   "metadata": {},
   "outputs": [],
   "source": [
    "class_names = os.listdir(data_dir)\n",
    "class_names = [x.title() for x in class_names]\n",
    "class_names = [x.replace('_',' ') for x in class_names]"
   ]
  },
  {
   "cell_type": "code",
   "execution_count": 9,
   "metadata": {},
   "outputs": [],
   "source": [
    "img_width, img_height = 256, 256\n",
    "batch_size = 16"
   ]
  },
  {
   "cell_type": "code",
   "execution_count": 10,
   "metadata": {},
   "outputs": [],
   "source": [
    "results = {\n",
    "    \"accuracy\":\"\",\n",
    "    \"loss\":\"\",\n",
    "    \"precision\":\"\",\n",
    "    \"recall\":\"\",\n",
    "    \"f1-score\":\"\",\n",
    "    \"report\":\"\"\n",
    "}"
   ]
  },
  {
   "cell_type": "code",
   "execution_count": 11,
   "metadata": {},
   "outputs": [],
   "source": [
    "def plot_confusion_matrix(confusion_matrix_to_print, classes,\n",
    "                          title='Confusion matrix',\n",
    "                          cmap=plt.cm.Blues):\n",
    "    \"\"\"\n",
    "        This function prints applicationsand plots the confusion matrix.\n",
    "        Normalization can be applied by setting `normalize=True`.\n",
    "    \"\"\"\n",
    "\n",
    "    plt.imshow(confusion_matrix_to_print, interpolation='nearest', cmap=cmap)\n",
    "    plt.title(title)\n",
    "    plt.colorbar()\n",
    "    tick_marks = np.arange(len(classes))\n",
    "    plt.xticks(tick_marks, classes, rotation=90)\n",
    "    plt.yticks(tick_marks, classes)\n",
    "\n",
    "    thresh = confusion_matrix_to_print.max() / 2.\n",
    "    for i, j in itertools.product(range(confusion_matrix_to_print.shape[0]),\n",
    "                                  range(confusion_matrix_to_print.shape[1])):\n",
    "        plt.text(j, i, format(confusion_matrix_to_print[i, j], 'd'),\n",
    "                 horizontalalignment=\"center\",\n",
    "                 color=\"white\" if confusion_matrix_to_print[i, j] > thresh else \"black\")\n",
    "\n",
    "    plt.tight_layout()\n",
    "    plt.ylabel('True label')\n",
    "    plt.xlabel('Predicted label')"
   ]
  },
  {
   "cell_type": "code",
   "execution_count": 12,
   "metadata": {},
   "outputs": [],
   "source": [
    "def make_confusion_matrix_and_plot(validation_generator, file_name, model_final):\n",
    "    \"\"\"Predict and plot confusion matrix\"\"\"\n",
    "\n",
    "    validation_features = model_final.predict_generator(validation_generator,\n",
    "                                                        validation_generator.samples,\n",
    "                                                        verbose=1)\n",
    "\n",
    "    plt.figure(figsize=(10,10))\n",
    "\n",
    "    plot_confusion_matrix(confusion_matrix(np.argmax(validation_features, axis=1),\n",
    "                                           validation_generator.classes),\n",
    "                          classes=class_names,\n",
    "                          title='Test Confusion Matrix Graph')\n",
    "\n",
    "    plt.savefig('../output_images/' + file_name + '_matrix_TEST.png')\n",
    "\n",
    "    print(\"Total time after generate confusion matrix: %s\" %\n",
    "          (time.time() - START_TIME))"
   ]
  },
  {
   "cell_type": "code",
   "execution_count": 13,
   "metadata": {},
   "outputs": [],
   "source": [
    "def classification_report_csv(report, file_name):\n",
    "    \"\"\"\n",
    "    This function turns the sklearn report into an array where each class is a position.\n",
    "    \"\"\"\n",
    "    report_data = []\n",
    "    lines = report.split('\\n')\n",
    "    for line in lines[2:-5]:\n",
    "        line=\" \".join(line.split())\n",
    "        row = {}\n",
    "        row_data = line.split(' ')\n",
    "        #row['class'] = row_data[0]\n",
    "        row['precision'] = row_data[1]\n",
    "        row['recall'] = row_data[2]\n",
    "        row['f1_score'] = row_data[3]\n",
    "        #row['support'] = row_data[4]\n",
    "        report_data.append(row)\n",
    "        \n",
    "    dataframe = pd.DataFrame.from_dict(report_data)\n",
    "    print(dataframe)\n",
    "    \n",
    "    path = '../results/' + file_name + '_classification_report_TEST.csv'\n",
    "    dataframe.to_csv(path, index = False)\n",
    "    print(\"Report dataframe saved as \" + path)\n",
    "    \n",
    "    return dataframe"
   ]
  },
  {
   "cell_type": "code",
   "execution_count": 14,
   "metadata": {},
   "outputs": [],
   "source": [
    "def main():\n",
    "    \n",
    "    # used to rescale the pixel values from [0, 255] to [0, 1] interval\n",
    "    datagen = ImageDataGenerator(rescale=1./255)\n",
    "    \n",
    "    test_generator = datagen.flow_from_directory(\n",
    "        test_data_dir,\n",
    "        target_size=(img_width, img_height),\n",
    "        batch_size=batch_size,\n",
    "        shuffle=False,\n",
    "        class_mode='categorical')\n",
    "    \n",
    "    # Loading the saved model\n",
    "    model = load_model(file_path + '_model.h5')\n",
    "    # Loading weights\n",
    "    model.load_weights(file_path + '_weights.h5')\n",
    "    # Printing the model summary\n",
    "    #model.summary()\n",
    "\n",
    "    test_predict = model.predict_generator(test_generator, steps=None)\n",
    "    test_evaluate = model.evaluate_generator(test_generator, test_generator.samples)\n",
    "    \n",
    "    # Printing sklearn metrics report for test\n",
    "    y_true = test_generator.classes\n",
    "    y_pred = np.argmax(test_predict, axis=1)\n",
    "    report = metrics.classification_report(y_true, y_pred, digits=6)\n",
    "    csv_report = classification_report_csv(report, file_name)\n",
    "    \n",
    "    # making the confusion matrix of train/test\n",
    "    test_generator_matrix = datagen.flow_from_directory(\n",
    "            test_data_dir,\n",
    "            target_size=(img_width, img_height),\n",
    "            batch_size=1,\n",
    "            shuffle=False,\n",
    "            class_mode='categorical')\n",
    "    \n",
    "    make_confusion_matrix_and_plot(\n",
    "        test_generator_matrix, file_name, model)\n",
    "    \n",
    "    # Saving results\n",
    "    results[\"accuracy\"] = test_evaluate[1]\n",
    "    results[\"loss\"] = test_evaluate[0]\n",
    "    results[\"precision\"] = metrics.precision_score(y_true, y_pred, average='macro')\n",
    "    results[\"recall\"] = metrics.recall_score(y_true, y_pred, average='macro')\n",
    "    results[\"f1-score\"] = metrics.f1_score(y_true, y_pred, average='macro')\n",
    "    results[\"report\"] = csv_report\n",
    "    \n",
    "    return results"
   ]
  },
  {
   "cell_type": "code",
   "execution_count": 15,
   "metadata": {
    "scrolled": false
   },
   "outputs": [
    {
     "name": "stdout",
     "output_type": "stream",
     "text": [
      "Found 68 images belonging to 17 classes.\n"
     ]
    },
    {
     "name": "stderr",
     "output_type": "stream",
     "text": [
      "/home/silveira/anaconda3/envs/pollen-zoom/lib/python3.7/site-packages/sklearn/metrics/_classification.py:1272: UndefinedMetricWarning: Precision and F-score are ill-defined and being set to 0.0 in labels with no predicted samples. Use `zero_division` parameter to control this behavior.\n",
      "  _warn_prf(average, modifier, msg_start, len(result))\n"
     ]
    },
    {
     "name": "stdout",
     "output_type": "stream",
     "text": [
      "   precision    recall  f1_score\n",
      "0   0.000000  0.000000  0.000000\n",
      "1   0.000000  0.000000  0.000000\n",
      "2   0.000000  0.000000  0.000000\n",
      "3   0.000000  0.000000  0.000000\n",
      "4   0.000000  0.000000  0.000000\n",
      "5   0.000000  0.000000  0.000000\n",
      "6   0.000000  0.000000  0.000000\n",
      "7   0.064516  1.000000  0.121212\n",
      "8   0.000000  0.000000  0.000000\n",
      "9   0.000000  0.000000  0.000000\n",
      "10  0.000000  0.000000  0.000000\n",
      "11  0.000000  0.000000  0.000000\n",
      "12  0.000000  0.000000  0.000000\n",
      "13  0.000000  0.000000  0.000000\n",
      "14  0.000000  0.000000  0.000000\n",
      "15  0.000000  0.000000  0.000000\n",
      "16  0.000000  0.000000  0.000000\n",
      "Report dataframe saved as ../results/Xception_tf_0_lr_0.001_batch_16_epochs_2_classification_report_TEST.csv\n",
      "Found 68 images belonging to 17 classes.\n",
      "68/68 [==============================] - 3s 41ms/step\n",
      "Total time after generate confusion matrix: 34.34205436706543\n"
     ]
    },
    {
     "name": "stderr",
     "output_type": "stream",
     "text": [
      "/home/silveira/anaconda3/envs/pollen-zoom/lib/python3.7/site-packages/sklearn/metrics/_classification.py:1272: UndefinedMetricWarning: Precision is ill-defined and being set to 0.0 in labels with no predicted samples. Use `zero_division` parameter to control this behavior.\n",
      "  _warn_prf(average, modifier, msg_start, len(result))\n"
     ]
    },
    {
     "data": {
      "image/png": "[encoded data removed]",
      "text/plain": [
       "<Figure size 720x720 with 2 Axes>"
      ]
     },
     "metadata": {
      "needs_background": "light"
     },
     "output_type": "display_data"
    }
   ],
   "source": [
    "results = main()"
   ]
  },
  {
   "cell_type": "code",
   "execution_count": 16,
   "metadata": {},
   "outputs": [
    {
     "data": {
      "text/plain": [
       "{'accuracy': 0.06008583679795265,\n",
       " 'loss': 3.2227725982666016,\n",
       " 'precision': 0.003795066413662239,\n",
       " 'recall': 0.058823529411764705,\n",
       " 'f1-score': 0.007130124777183601,\n",
       " 'report':    precision    recall  f1_score\n",
       " 0   0.000000  0.000000  0.000000\n",
       " 1   0.000000  0.000000  0.000000\n",
       " 2   0.000000  0.000000  0.000000\n",
       " 3   0.000000  0.000000  0.000000\n",
       " 4   0.000000  0.000000  0.000000\n",
       " 5   0.000000  0.000000  0.000000\n",
       " 6   0.000000  0.000000  0.000000\n",
       " 7   0.064516  1.000000  0.121212\n",
       " 8   0.000000  0.000000  0.000000\n",
       " 9   0.000000  0.000000  0.000000\n",
       " 10  0.000000  0.000000  0.000000\n",
       " 11  0.000000  0.000000  0.000000\n",
       " 12  0.000000  0.000000  0.000000\n",
       " 13  0.000000  0.000000  0.000000\n",
       " 14  0.000000  0.000000  0.000000\n",
       " 15  0.000000  0.000000  0.000000\n",
       " 16  0.000000  0.000000  0.000000}"
      ]
     },
     "execution_count": 16,
     "metadata": {},
     "output_type": "execute_result"
    }
   ],
   "source": [
    "results"
   ]
  }
 ],
 "metadata": {
  "kernelspec": {
   "display_name": "Python 3",
   "language": "python",
   "name": "python3"
  },
  "language_info": {
   "codemirror_mode": {
    "name": "ipython",
    "version": 3
   },
   "file_extension": ".py",
   "mimetype": "text/x-python",
   "name": "python",
   "nbconvert_exporter": "python",
   "pygments_lexer": "ipython3",
   "version": "3.7.6"
  }
 },
 "nbformat": 4,
 "nbformat_minor": 4
}
